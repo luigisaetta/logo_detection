{
 "cells": [
  {
   "cell_type": "markdown",
   "id": "01fe4e3d",
   "metadata": {},
   "source": [
    "### Come gestire l'autenticazione: Keys o Resource Principal?"
   ]
  },
  {
   "cell_type": "code",
   "execution_count": 1,
   "id": "954fdc41",
   "metadata": {},
   "outputs": [],
   "source": [
    "import oci\n",
    "import torch\n",
    "\n",
    "from oci.ai_vision import AIServiceVisionClient\n",
    "from oci.ai_vision.models import AnalyzeImageDetails\n",
    "from oci.ai_vision.models import ImageClassificationFeature\n",
    "from oci.ai_vision.models import ImageObjectDetectionFeature\n",
    "from oci.ai_vision.models import InlineImageDetails\n",
    "from oci.ai_vision.models import ObjectStorageImageDetails\n",
    "\n",
    "import os\n",
    "import base64\n",
    "import json\n",
    "import cv2"
   ]
  },
  {
   "cell_type": "markdown",
   "id": "597fcea3",
   "metadata": {},
   "source": [
    "### Auth Key (personali)"
   ]
  },
  {
   "cell_type": "code",
   "execution_count": 18,
   "id": "1b913f87",
   "metadata": {},
   "outputs": [
    {
     "data": {
      "text/plain": [
       "'ocid1.compartment.oc1..aaaaaaaag2cpni5qj6li5ny6ehuahhepbpveopobooayqfeudqygdtfe6h3a'"
      ]
     },
     "execution_count": 18,
     "metadata": {},
     "output_type": "execute_result"
    }
   ],
   "source": [
    "os.environ.get('PROJECT_COMPARTMENT_OCID')"
   ]
  },
  {
   "cell_type": "code",
   "execution_count": 3,
   "id": "f67fb8b7",
   "metadata": {},
   "outputs": [
    {
     "name": "stdout",
     "output_type": "stream",
     "text": [
      "[DEFAULT]\n",
      "user=ocid1.user.oc1..aaaaaaaafurloh2ad5mdr6yukuupzpy72gcrad3gevaahzo7ws6t2yanvjka\n",
      "fingerprint=67:6f:15:26:63:3f:6b:14:38:b9:ec:1e:e7:db:6f:4b\n",
      "tenancy=ocid1.tenancy.oc1..aaaaaaaabu5fgingcjq3vc7djuwsdcutdxs4gsws6h4kfoldqpjuggxprgoa\n",
      "region=eu-frankfurt-1\n",
      "key_file=/home/datascience/.oci/luigi.saetta-05-16-10-29.pem\n"
     ]
    }
   ],
   "source": [
    "# la configurazione è in questo file\n",
    "!cat /home/datascience/.oci/config"
   ]
  },
  {
   "cell_type": "code",
   "execution_count": 4,
   "id": "36f113ea",
   "metadata": {},
   "outputs": [
    {
     "name": "stdout",
     "output_type": "stream",
     "text": [
      "total 12\n",
      "-rw-r--r--. 1 datascience users  323 Jun  9 08:46 config\n",
      "-rw-r--r--. 1 datascience users 1730 Jun  9 08:45 luigi.saetta-05-16-10-29.pem\n",
      "-rw-r--r--. 1 datascience users  458 Jun  9 08:45 luigi.saetta-05-16-10-29_public.pem\n"
     ]
    }
   ],
   "source": [
    "!ls -l /home/datascience/.oci"
   ]
  },
  {
   "cell_type": "code",
   "execution_count": 24,
   "id": "9b66e7a3",
   "metadata": {},
   "outputs": [
    {
     "data": {
      "text/plain": [
       "{'log_requests': False,\n",
       " 'additional_user_agent': '',\n",
       " 'pass_phrase': None,\n",
       " 'user': 'ocid1.user.oc1..aaaaaaaafurloh2ad5mdr6yukuupzpy72gcrad3gevaahzo7ws6t2yanvjka',\n",
       " 'fingerprint': '67:6f:15:26:63:3f:6b:14:38:b9:ec:1e:e7:db:6f:4b',\n",
       " 'tenancy': 'ocid1.tenancy.oc1..aaaaaaaabu5fgingcjq3vc7djuwsdcutdxs4gsws6h4kfoldqpjuggxprgoa',\n",
       " 'region': 'eu-frankfurt-1',\n",
       " 'key_file': '/home/datascience/.oci/luigi.saetta-05-16-10-29.pem'}"
      ]
     },
     "execution_count": 24,
     "metadata": {},
     "output_type": "execute_result"
    }
   ],
   "source": [
    "# legge le api key e la configurazione per invocare il Language Service\n",
    "config = oci.config.from_file()\n",
    "\n",
    "config"
   ]
  },
  {
   "cell_type": "code",
   "execution_count": 25,
   "id": "d320a951",
   "metadata": {},
   "outputs": [],
   "source": [
    "# cosi va fatta l'invocazione\n",
    "# Initialize client service_endpoint is optional if it's specified in config\n",
    "# Vision Service endpoint\n",
    "ENDPOINT = \"https://vision.aiservice.eu-frankfurt-1.oci.oraclecloud.com\"\n",
    "# the custom trained model we're using for Object Detection\n",
    "MODEL_ID = \"ocid1.aivisionmodel.oc1.eu-frankfurt-1.amaaaaaangencdyarrrcfnwo2yly3goldt4zwvvcs2bkerzwfrbntli74sta\"\n",
    "\n",
    "ai_service_vision_client = AIServiceVisionClient(config=config, service_endpoint=ENDPOINT)"
   ]
  },
  {
   "cell_type": "code",
   "execution_count": 26,
   "id": "94bbc1da",
   "metadata": {},
   "outputs": [
    {
     "data": {
      "text/plain": [
       "{\n",
       "  \"items\": [\n",
       "    {\n",
       "      \"compartment_id\": \"ocid1.compartment.oc1..aaaaaaaahioj3gxhxpebugaocrtfbb25yramvyfs4ah2prmhnf2adovtmp6a\",\n",
       "      \"defined_tags\": {\n",
       "        \"default-tags\": {\n",
       "          \"CreatedBy\": \"oracleidentitycloudservice/luigi.saetta@oracle.com\"\n",
       "        }\n",
       "      },\n",
       "      \"display_name\": \"test_logo_images\",\n",
       "      \"freeform_tags\": {},\n",
       "      \"id\": \"ocid1.aivisionproject.oc1.eu-frankfurt-1.amaaaaaangencdyaiens6qiaablagzi5qogxrmxlvjhp42vevrtz4sy67fdq\",\n",
       "      \"lifecycle_details\": null,\n",
       "      \"lifecycle_state\": \"ACTIVE\",\n",
       "      \"system_tags\": {},\n",
       "      \"time_created\": \"2022-03-31T07:51:51.867000+00:00\",\n",
       "      \"time_updated\": \"2022-03-31T07:51:59.366000+00:00\"\n",
       "    }\n",
       "  ]\n",
       "}"
      ]
     },
     "execution_count": 26,
     "metadata": {},
     "output_type": "execute_result"
    }
   ],
   "source": [
    "# get the list of AI Vision Models available in the chosen compartment\n",
    "response = ai_service_vision_client.list_projects(compartment_id=\"ocid1.compartment.oc1..aaaaaaaahioj3gxhxpebugaocrtfbb25yramvyfs4ah2prmhnf2adovtmp6a\")\n",
    "\n",
    "response.data"
   ]
  },
  {
   "cell_type": "markdown",
   "id": "199b88bb",
   "metadata": {},
   "source": [
    "### Resource Principal (la NB session deve essere in un Dynamic Group aut. da policy)"
   ]
  },
  {
   "cell_type": "code",
   "execution_count": 29,
   "id": "f2155735",
   "metadata": {},
   "outputs": [],
   "source": [
    "# get the RP signer\n",
    "rps = oci.auth.signers.get_resource_principals_signer()"
   ]
  },
  {
   "cell_type": "code",
   "execution_count": 30,
   "id": "df17bad8",
   "metadata": {},
   "outputs": [],
   "source": [
    "ENDPOINT = \"https://vision.aiservice.eu-frankfurt-1.oci.oraclecloud.com\"\n",
    "# the custom trained model we're using for Object Detection\n",
    "MODEL_ID = \"ocid1.aivisionmodel.oc1.eu-frankfurt-1.amaaaaaangencdyarrrcfnwo2yly3goldt4zwvvcs2bkerzwfrbntli74sta\"\n",
    "\n",
    "ai_service_vision_client = AIServiceVisionClient(config={}, service_endpoint=ENDPOINT, signer=rps)"
   ]
  },
  {
   "cell_type": "code",
   "execution_count": 31,
   "id": "2f8674bb",
   "metadata": {},
   "outputs": [
    {
     "data": {
      "text/plain": [
       "{\n",
       "  \"items\": [\n",
       "    {\n",
       "      \"compartment_id\": \"ocid1.compartment.oc1..aaaaaaaahioj3gxhxpebugaocrtfbb25yramvyfs4ah2prmhnf2adovtmp6a\",\n",
       "      \"defined_tags\": {\n",
       "        \"default-tags\": {\n",
       "          \"CreatedBy\": \"oracleidentitycloudservice/luigi.saetta@oracle.com\"\n",
       "        }\n",
       "      },\n",
       "      \"display_name\": \"test_logo_images\",\n",
       "      \"freeform_tags\": {},\n",
       "      \"id\": \"ocid1.aivisionproject.oc1.eu-frankfurt-1.amaaaaaangencdyaiens6qiaablagzi5qogxrmxlvjhp42vevrtz4sy67fdq\",\n",
       "      \"lifecycle_details\": null,\n",
       "      \"lifecycle_state\": \"ACTIVE\",\n",
       "      \"system_tags\": {},\n",
       "      \"time_created\": \"2022-03-31T07:51:51.867000+00:00\",\n",
       "      \"time_updated\": \"2022-03-31T07:51:59.366000+00:00\"\n",
       "    }\n",
       "  ]\n",
       "}"
      ]
     },
     "execution_count": 31,
     "metadata": {},
     "output_type": "execute_result"
    }
   ],
   "source": [
    "# get the list of AI Vision Models available in the chosen compartment\n",
    "response = ai_service_vision_client.list_projects(compartment_id=\"ocid1.compartment.oc1..aaaaaaaahioj3gxhxpebugaocrtfbb25yramvyfs4ah2prmhnf2adovtmp6a\")\n",
    "\n",
    "response.data"
   ]
  },
  {
   "cell_type": "code",
   "execution_count": null,
   "id": "144ad26c",
   "metadata": {},
   "outputs": [],
   "source": []
  }
 ],
 "metadata": {
  "kernelspec": {
   "display_name": "Python [conda env:mycomputervision_p37_cpuv1_0]",
   "language": "python",
   "name": "conda-env-mycomputervision_p37_cpuv1_0-py"
  },
  "language_info": {
   "codemirror_mode": {
    "name": "ipython",
    "version": 3
   },
   "file_extension": ".py",
   "mimetype": "text/x-python",
   "name": "python",
   "nbconvert_exporter": "python",
   "pygments_lexer": "ipython3",
   "version": "3.7.8"
  }
 },
 "nbformat": 4,
 "nbformat_minor": 5
}
