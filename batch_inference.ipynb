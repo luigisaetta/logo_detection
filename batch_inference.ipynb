{
 "cells": [
  {
   "cell_type": "markdown",
   "id": "49a342bb",
   "metadata": {},
   "source": [
    "<h2 style='color:#09a2b3'> Batch Inference</h2>\n",
    "\n",
    "In questa demo faccio vedere come è possibile create un **Job per analisi immagini e fare Object Detection su N immagini**, con una sola API call\n",
    "\n",
    "(molto veloce)"
   ]
  },
  {
   "cell_type": "code",
   "execution_count": 1,
   "id": "f61c36f1",
   "metadata": {},
   "outputs": [],
   "source": [
    "import oci\n",
    "import torch\n",
    "\n",
    "from oci.ai_vision import AIServiceVisionClient\n",
    "from oci.ai_vision.models import AnalyzeImageDetails\n",
    "from oci.ai_vision.models import ImageObjectDetectionFeature\n",
    "from oci.ai_vision.models import InlineImageDetails\n",
    "from oci.ai_vision.models import ObjectStorageImageDetails, ObjectLocation, OutputLocation\n",
    "\n",
    "import os\n",
    "import numpy as np\n",
    "import pandas as pd\n",
    "import glob"
   ]
  },
  {
   "cell_type": "code",
   "execution_count": 2,
   "id": "2f2c16f5",
   "metadata": {},
   "outputs": [],
   "source": [
    "# get the RP signer\n",
    "rps = oci.auth.signers.get_resource_principals_signer()"
   ]
  },
  {
   "cell_type": "code",
   "execution_count": 3,
   "id": "d7845333",
   "metadata": {},
   "outputs": [],
   "source": [
    "COMPARTMENT_ID=\"ocid1.compartment.oc1..aaaaaaaahioj3gxhxpebugaocrtfbb25yramvyfs4ah2prmhnf2adovtmp6a\"\n",
    "\n",
    "ENDPOINT = \"https://vision.aiservice.eu-frankfurt-1.oci.oraclecloud.com\"\n",
    "# the custom trained model we're using for Object Detection\n",
    "MODEL_ID = \"ocid1.aivisionmodel.oc1.eu-frankfurt-1.amaaaaaangencdyarrrcfnwo2yly3goldt4zwvvcs2bkerzwfrbntli74sta\"\n",
    "\n",
    "ai_service_vision_client = AIServiceVisionClient(config={}, service_endpoint=ENDPOINT, signer=rps)"
   ]
  },
  {
   "cell_type": "code",
   "execution_count": 9,
   "id": "4dee1640",
   "metadata": {},
   "outputs": [
    {
     "name": "stdout",
     "output_type": "stream",
     "text": [
      "{\n",
      "  \"compartment_id\": \"ocid1.compartment.oc1..aaaaaaaahioj3gxhxpebugaocrtfbb25yramvyfs4ah2prmhnf2adovtmp6a\",\n",
      "  \"display_name\": \"ImageJob1\",\n",
      "  \"features\": [\n",
      "    {\n",
      "      \"feature_type\": \"OBJECT_DETECTION\",\n",
      "      \"max_results\": null,\n",
      "      \"model_id\": \"ocid1.aivisionmodel.oc1.eu-frankfurt-1.amaaaaaangencdyarrrcfnwo2yly3goldt4zwvvcs2bkerzwfrbntli74sta\"\n",
      "    }\n",
      "  ],\n",
      "  \"id\": \"ocid1.aivisionimagejob.oc1.eu-frankfurt-1.amaaaaaa74akfsaa3qzmwpfas4gu577fnq2hn6r7at2vfcgukzlmfrpzoyna\",\n",
      "  \"input_location\": {\n",
      "    \"object_locations\": [\n",
      "      {\n",
      "        \"bucket_name\": \"batch_image_input\",\n",
      "        \"namespace_name\": \"frqap2zhtzbe\",\n",
      "        \"object_name\": \"oracle2.jpeg\"\n",
      "      },\n",
      "      {\n",
      "        \"bucket_name\": \"batch_image_input\",\n",
      "        \"namespace_name\": \"frqap2zhtzbe\",\n",
      "        \"object_name\": \"oracle_red_bull1.jpeg\"\n",
      "      },\n",
      "      {\n",
      "        \"bucket_name\": \"batch_image_input\",\n",
      "        \"namespace_name\": \"frqap2zhtzbe\",\n",
      "        \"object_name\": \"oracle1.jpeg\"\n",
      "      },\n",
      "      {\n",
      "        \"bucket_name\": \"batch_image_input\",\n",
      "        \"namespace_name\": \"frqap2zhtzbe\",\n",
      "        \"object_name\": \"oracle_red_bull2.jpeg\"\n",
      "      }\n",
      "    ],\n",
      "    \"source_type\": \"OBJECT_LIST_INLINE_INPUT_LOCATION\"\n",
      "  },\n",
      "  \"is_zip_output_enabled\": true,\n",
      "  \"lifecycle_details\": null,\n",
      "  \"lifecycle_state\": \"ACCEPTED\",\n",
      "  \"output_location\": {\n",
      "    \"bucket_name\": \"batch_image_output\",\n",
      "    \"namespace_name\": \"frqap2zhtzbe\",\n",
      "    \"prefix\": \"job2\"\n",
      "  },\n",
      "  \"percent_complete\": 0.0,\n",
      "  \"time_accepted\": \"2022-06-30T15:28:43.669000+00:00\",\n",
      "  \"time_finished\": null,\n",
      "  \"time_started\": null\n",
      "}\n",
      "CPU times: user 23.5 ms, sys: 2.09 ms, total: 25.6 ms\n",
      "Wall time: 1.34 s\n"
     ]
    }
   ],
   "source": [
    "%%time\n",
    "\n",
    "# questi sono file nel bucket... non in locale\n",
    "fname_list = ['oracle1.jpeg', 'oracle2.jpeg', 'oracle_red_bull1.jpeg', 'oracle_red_bull2.jpeg']\n",
    "\n",
    "my_object_locations = [ObjectLocation(namespace_name=\"frqap2zhtzbe\",\n",
    "                                      bucket_name=\"batch_image_input\", object_name=x) for x in fname_list]\n",
    "\n",
    "# Send the request to service, some parameters are not required, see API\n",
    "# doc for more info\n",
    "create_image_job_response = ai_service_vision_client.create_image_job(\n",
    "    create_image_job_details=oci.ai_vision.models.CreateImageJobDetails(\n",
    "        input_location=oci.ai_vision.models.ObjectListInlineInputLocation(\n",
    "            source_type=\"OBJECT_LIST_INLINE_INPUT_LOCATION\",\n",
    "            # here I can handle multiple files\n",
    "            # costruisco dinamicamente\n",
    "            object_locations=my_object_locations),\n",
    "        features=[\n",
    "            ImageObjectDetectionFeature(\n",
    "                # qui forniamo il custom model id\n",
    "                model_id=MODEL_ID)],\n",
    "        output_location=OutputLocation(\n",
    "            namespace_name=\"frqap2zhtzbe\",\n",
    "            bucket_name=\"batch_image_output\",\n",
    "            prefix=\"job2\"),\n",
    "        compartment_id=COMPARTMENT_ID,\n",
    "        display_name=\"ImageJob1\",\n",
    "        is_zip_output_enabled=True))\n",
    "\n",
    "# Get the data from response\n",
    "print(create_image_job_response.data)"
   ]
  },
  {
   "cell_type": "code",
   "execution_count": 10,
   "id": "1967c552",
   "metadata": {},
   "outputs": [
    {
     "data": {
      "text/plain": [
       "'ocid1.aivisionimagejob.oc1.eu-frankfurt-1.amaaaaaa74akfsaa3qzmwpfas4gu577fnq2hn6r7at2vfcgukzlmfrpzoyna'"
      ]
     },
     "execution_count": 10,
     "metadata": {},
     "output_type": "execute_result"
    }
   ],
   "source": [
    "JOB_ID = create_image_job_response.data.id\n",
    "\n",
    "JOB_ID"
   ]
  },
  {
   "cell_type": "code",
   "execution_count": 12,
   "id": "c4c466c6",
   "metadata": {},
   "outputs": [
    {
     "data": {
      "text/plain": [
       "{\n",
       "  \"compartment_id\": \"ocid1.compartment.oc1..aaaaaaaahioj3gxhxpebugaocrtfbb25yramvyfs4ah2prmhnf2adovtmp6a\",\n",
       "  \"display_name\": \"ImageJob1\",\n",
       "  \"features\": [\n",
       "    {\n",
       "      \"feature_type\": \"OBJECT_DETECTION\",\n",
       "      \"max_results\": null,\n",
       "      \"model_id\": \"ocid1.aivisionmodel.oc1.eu-frankfurt-1.amaaaaaangencdyarrrcfnwo2yly3goldt4zwvvcs2bkerzwfrbntli74sta\"\n",
       "    }\n",
       "  ],\n",
       "  \"id\": \"ocid1.aivisionimagejob.oc1.eu-frankfurt-1.amaaaaaa74akfsaa3qzmwpfas4gu577fnq2hn6r7at2vfcgukzlmfrpzoyna\",\n",
       "  \"input_location\": {\n",
       "    \"object_locations\": [\n",
       "      {\n",
       "        \"bucket_name\": \"batch_image_input\",\n",
       "        \"namespace_name\": \"frqap2zhtzbe\",\n",
       "        \"object_name\": \"oracle2.jpeg\"\n",
       "      },\n",
       "      {\n",
       "        \"bucket_name\": \"batch_image_input\",\n",
       "        \"namespace_name\": \"frqap2zhtzbe\",\n",
       "        \"object_name\": \"oracle_red_bull1.jpeg\"\n",
       "      },\n",
       "      {\n",
       "        \"bucket_name\": \"batch_image_input\",\n",
       "        \"namespace_name\": \"frqap2zhtzbe\",\n",
       "        \"object_name\": \"oracle1.jpeg\"\n",
       "      },\n",
       "      {\n",
       "        \"bucket_name\": \"batch_image_input\",\n",
       "        \"namespace_name\": \"frqap2zhtzbe\",\n",
       "        \"object_name\": \"oracle_red_bull2.jpeg\"\n",
       "      }\n",
       "    ],\n",
       "    \"source_type\": \"OBJECT_LIST_INLINE_INPUT_LOCATION\"\n",
       "  },\n",
       "  \"is_zip_output_enabled\": true,\n",
       "  \"lifecycle_details\": null,\n",
       "  \"lifecycle_state\": \"SUCCEEDED\",\n",
       "  \"output_location\": {\n",
       "    \"bucket_name\": \"batch_image_output\",\n",
       "    \"namespace_name\": \"frqap2zhtzbe\",\n",
       "    \"prefix\": \"job2\"\n",
       "  },\n",
       "  \"percent_complete\": 100.0,\n",
       "  \"time_accepted\": \"2022-06-30T15:28:43.669000+00:00\",\n",
       "  \"time_finished\": \"2022-06-30T15:28:57.620000+00:00\",\n",
       "  \"time_started\": \"2022-06-30T15:28:45.133000+00:00\"\n",
       "}"
      ]
     },
     "execution_count": 12,
     "metadata": {},
     "output_type": "execute_result"
    }
   ],
   "source": [
    "#\n",
    "# per verificare se il JOB è terminato\n",
    "#\n",
    "response = ai_service_vision_client.get_image_job(image_job_id=JOB_ID)\n",
    "\n",
    "response.data"
   ]
  },
  {
   "cell_type": "code",
   "execution_count": null,
   "id": "3152c6d7",
   "metadata": {},
   "outputs": [],
   "source": []
  }
 ],
 "metadata": {
  "kernelspec": {
   "display_name": "Python [conda env:mycomputervision_p37_cpuv1_0]",
   "language": "python",
   "name": "conda-env-mycomputervision_p37_cpuv1_0-py"
  },
  "language_info": {
   "codemirror_mode": {
    "name": "ipython",
    "version": 3
   },
   "file_extension": ".py",
   "mimetype": "text/x-python",
   "name": "python",
   "nbconvert_exporter": "python",
   "pygments_lexer": "ipython3",
   "version": "3.7.8"
  }
 },
 "nbformat": 4,
 "nbformat_minor": 5
}
